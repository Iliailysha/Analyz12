{
 "cells": [
  {
   "cell_type": "code",
   "execution_count": 13,
   "metadata": {
    "colab": {
     "base_uri": "https://localhost:8080/"
    },
    "collapsed": true,
    "executionInfo": {
     "elapsed": 2487,
     "status": "ok",
     "timestamp": 1731922479826,
     "user": {
      "displayName": "Илья Барышников",
      "userId": "17407689509608247648"
     },
     "user_tz": -180
    },
    "id": "sPEJP8X6X0DO",
    "outputId": "ab961875-7b66-462c-eca8-c7ea01a32696"
   },
   "outputs": [
    {
     "name": "stdout",
     "output_type": "stream",
     "text": [
      "Drive already mounted at /content/drive/; to attempt to forcibly remount, call drive.mount(\"/content/drive/\", force_remount=True).\n",
      "/content/drive/MyDrive\n"
     ]
    }
   ],
   "source": [
    "import pandas as pd\n",
    "import matplotlib.pyplot as plt\n",
    "import numpy as np\n",
    "from sklearn.model_selection import train_test_split\n",
    "from sklearn.preprocessing import StandardScaler\n",
    "from sklearn.preprocessing import OneHotEncoder\n",
    "# Прочитайте файл и сохраните его в любой переменной\n",
    "from google.colab import drive\n",
    "drive.mount('/content/drive/')\n",
    "%cd /content/drive/MyDrive\n",
    "df = pd.read_csv('/content/drive/MyDrive/Airpollution.csv')"
   ]
  },
  {
   "cell_type": "code",
   "execution_count": 14,
   "metadata": {
    "collapsed": true,
    "executionInfo": {
     "elapsed": 263,
     "status": "ok",
     "timestamp": 1731922484415,
     "user": {
      "displayName": "Илья Барышников",
      "userId": "17407689509608247648"
     },
     "user_tz": -180
    },
    "id": "NHHe6D9Vt57q"
   },
   "outputs": [],
   "source": [
    "# Удалите столбец City из датасета\n",
    "del df['City']"
   ]
  },
  {
   "cell_type": "code",
   "execution_count": 19,
   "metadata": {
    "executionInfo": {
     "elapsed": 593,
     "status": "ok",
     "timestamp": 1731922911345,
     "user": {
      "displayName": "Илья Барышников",
      "userId": "17407689509608247648"
     },
     "user_tz": -180
    },
    "id": "DONiIazauruY"
   },
   "outputs": [],
   "source": [
    "# Столбец AQI Value выделить как ключевой и удалите для выборки Х, разбейте train и test на выборки\n",
    "y = df[['AQI Value']]\n",
    "X= df.drop('AQI Value', axis = 1)\n",
    "X_train, X_test, y_train, y_test = train_test_split(X,y,test_size=0.25, random_state=42)"
   ]
  },
  {
   "cell_type": "code",
   "execution_count": 21,
   "metadata": {
    "colab": {
     "base_uri": "https://localhost:8080/"
    },
    "collapsed": true,
    "executionInfo": {
     "elapsed": 320,
     "status": "ok",
     "timestamp": 1731922928683,
     "user": {
      "displayName": "Илья Барышников",
      "userId": "17407689509608247648"
     },
     "user_tz": -180
    },
    "id": "eEaqJl1xzmit",
    "outputId": "ec070a98-171c-467c-d0cb-a9830da8cb5c"
   },
   "outputs": [
    {
     "name": "stdout",
     "output_type": "stream",
     "text": [
      "X_train\n",
      "[[ 0.83311915 -0.7212399   0.5703916   1.48588988]\n",
      " [ 0.31830377 -0.7212399   2.50288569 -0.05161032]\n",
      " [ 2.89238067 -0.96975207  3.08263392  2.05330067]\n",
      " ...\n",
      " [ 0.31830377 -0.79224338 -0.58910485 -0.30786035]\n",
      " [-0.711327   -0.2597173  -0.20260603 -0.89357471]\n",
      " [-0.19651162 -0.79224338 -0.58910485 -0.91187828]]\n",
      "X_test\n",
      "[[-0.19651162 -0.36622251  0.3771422  -0.19803891]\n",
      " [-0.19651162 -0.61473468 -0.58910485 -0.85696756]\n",
      " [-0.19651162  0.09530009 -0.20260603 -0.39937822]\n",
      " ...\n",
      " [-0.19651162 -0.86324685 -0.20260603 -0.6190211 ]\n",
      " [ 0.31830377 -0.36622251  0.76364101 -0.19803891]\n",
      " [ 0.31830377 -0.86324685  0.5703916  -0.06991389]]\n"
     ]
    }
   ],
   "source": [
    " #Проведите Скеллинг данных для X_train и X_test выборки. Необходимо выполнить в два шага с созданием отдельных переменных. Для X_test применить только transform. Выведите отскелиренные таблицы\n",
    "scaler = StandardScaler()\n",
    "X_train_scaled = scaler.fit_transform(X_train.select_dtypes(exclude=['object']))\n",
    "X_test_scaled = scaler.transform(X_test.select_dtypes(exclude=['object']))\n",
    "print('X_train')\n",
    "print(X_train_scaled)\n",
    "print('X_test')\n",
    "print(X_test_scaled)"
   ]
  },
  {
   "cell_type": "code",
   "execution_count": 17,
   "metadata": {
    "colab": {
     "base_uri": "https://localhost:8080/"
    },
    "collapsed": true,
    "executionInfo": {
     "elapsed": 291,
     "status": "ok",
     "timestamp": 1731922490482,
     "user": {
      "displayName": "Илья Барышников",
      "userId": "17407689509608247648"
     },
     "user_tz": -180
    },
    "id": "uNTRJlUWlixp",
    "outputId": "e327ac4c-67fb-4287-928d-17c4ec6591c8"
   },
   "outputs": [
    {
     "name": "stdout",
     "output_type": "stream",
     "text": [
      "X_train_ohe\n",
      "  (0, 162)\t1.0\n",
      "  (0, 175)\t1.0\n",
      "  (0, 178)\t1.0\n",
      "  (0, 181)\t1.0\n",
      "  (0, 186)\t1.0\n",
      "  (0, 191)\t1.0\n",
      "  (1, 162)\t1.0\n",
      "  (1, 174)\t1.0\n",
      "  (1, 178)\t1.0\n",
      "  (1, 181)\t1.0\n",
      "  (1, 186)\t1.0\n",
      "  (1, 190)\t1.0\n",
      "  (2, 140)\t1.0\n",
      "  (2, 175)\t1.0\n",
      "  (2, 178)\t1.0\n",
      "  (2, 181)\t1.0\n",
      "  (2, 186)\t1.0\n",
      "  (2, 191)\t1.0\n",
      "  (3, 43)\t1.0\n",
      "  (3, 175)\t1.0\n",
      "  (3, 178)\t1.0\n",
      "  (3, 181)\t1.0\n",
      "  (3, 186)\t1.0\n",
      "  (3, 191)\t1.0\n",
      "  (4, 142)\t1.0\n",
      "  :\t:\n",
      "  (17592, 190)\t1.0\n",
      "  (17593, 31)\t1.0\n",
      "  (17593, 176)\t1.0\n",
      "  (17593, 178)\t1.0\n",
      "  (17593, 181)\t1.0\n",
      "  (17593, 186)\t1.0\n",
      "  (17593, 192)\t1.0\n",
      "  (17594, 170)\t1.0\n",
      "  (17594, 174)\t1.0\n",
      "  (17594, 178)\t1.0\n",
      "  (17594, 181)\t1.0\n",
      "  (17594, 186)\t1.0\n",
      "  (17594, 190)\t1.0\n",
      "  (17595, 122)\t1.0\n",
      "  (17595, 172)\t1.0\n",
      "  (17595, 178)\t1.0\n",
      "  (17595, 181)\t1.0\n",
      "  (17595, 186)\t1.0\n",
      "  (17595, 188)\t1.0\n",
      "  (17596, 20)\t1.0\n",
      "  (17596, 172)\t1.0\n",
      "  (17596, 178)\t1.0\n",
      "  (17596, 181)\t1.0\n",
      "  (17596, 186)\t1.0\n",
      "  (17596, 188)\t1.0\n",
      "X_test_ohe\n",
      "  (0, 13)\t1.0\n",
      "  (0, 174)\t1.0\n",
      "  (0, 178)\t1.0\n",
      "  (0, 181)\t1.0\n",
      "  (0, 186)\t1.0\n",
      "  (0, 190)\t1.0\n",
      "  (1, 127)\t1.0\n",
      "  (1, 172)\t1.0\n",
      "  (1, 178)\t1.0\n",
      "  (1, 181)\t1.0\n",
      "  (1, 186)\t1.0\n",
      "  (1, 188)\t1.0\n",
      "  (2, 13)\t1.0\n",
      "  (2, 172)\t1.0\n",
      "  (2, 178)\t1.0\n",
      "  (2, 181)\t1.0\n",
      "  (2, 186)\t1.0\n",
      "  (2, 188)\t1.0\n",
      "  (3, 39)\t1.0\n",
      "  (3, 174)\t1.0\n",
      "  (3, 178)\t1.0\n",
      "  (3, 181)\t1.0\n",
      "  (3, 186)\t1.0\n",
      "  (3, 190)\t1.0\n",
      "  (4, 167)\t1.0\n",
      "  :\t:\n",
      "  (5861, 190)\t1.0\n",
      "  (5862, 4)\t1.0\n",
      "  (5862, 172)\t1.0\n",
      "  (5862, 178)\t1.0\n",
      "  (5862, 181)\t1.0\n",
      "  (5862, 186)\t1.0\n",
      "  (5862, 188)\t1.0\n",
      "  (5863, 20)\t1.0\n",
      "  (5863, 172)\t1.0\n",
      "  (5863, 178)\t1.0\n",
      "  (5863, 181)\t1.0\n",
      "  (5863, 186)\t1.0\n",
      "  (5863, 188)\t1.0\n",
      "  (5864, 162)\t1.0\n",
      "  (5864, 174)\t1.0\n",
      "  (5864, 178)\t1.0\n",
      "  (5864, 181)\t1.0\n",
      "  (5864, 186)\t1.0\n",
      "  (5864, 190)\t1.0\n",
      "  (5865, 32)\t1.0\n",
      "  (5865, 174)\t1.0\n",
      "  (5865, 178)\t1.0\n",
      "  (5865, 181)\t1.0\n",
      "  (5865, 186)\t1.0\n",
      "  (5865, 190)\t1.0\n"
     ]
    }
   ],
   "source": [
    "# Провести OHE для X_train и X_test выборки. Fit и transform для Train проводим в два последовательных отдельных шага.\n",
    "# Выведите таблицы после OHE на экран.\n",
    "encoder = OneHotEncoder(handle_unknown='ignore')\n",
    "X_train_ohe = encoder.fit_transform(X_train.select_dtypes(include=['object']))\n",
    "X_test_ohe = encoder.transform(X_test.select_dtypes(include=['object']))\n",
    "print('X_train_ohe')\n",
    "print(X_train_ohe)\n",
    "print('X_test_ohe')\n",
    "print(X_test_ohe)\n"
   ]
  },
  {
   "cell_type": "code",
   "execution_count": 18,
   "metadata": {
    "colab": {
     "base_uri": "https://localhost:8080/"
    },
    "collapsed": true,
    "executionInfo": {
     "elapsed": 3961,
     "status": "ok",
     "timestamp": 1731922505599,
     "user": {
      "displayName": "Илья Барышников",
      "userId": "17407689509608247648"
     },
     "user_tz": -180
    },
    "id": "vDeGF_EXmVn0",
    "outputId": "5fb42230-f0db-4fb4-a139-676e94444a74"
   },
   "outputs": [
    {
     "name": "stdout",
     "output_type": "stream",
     "text": [
      "concat_train_df\n",
      "              0         1         2         3  \\\n",
      "0      0.833119 -0.721240  0.570392  1.485890   \n",
      "1      0.318304 -0.721240  2.502886 -0.051610   \n",
      "2      2.892381 -0.969752  3.082634  2.053301   \n",
      "3      0.833119 -0.863247  1.536639  1.577408   \n",
      "4     -0.196512 -0.543731 -0.009357 -0.564110   \n",
      "...         ...       ...       ...       ...   \n",
      "17592 -0.711327 -0.472728 -0.589105 -0.106521   \n",
      "17593  0.833119  0.166304 -0.202606  0.845265   \n",
      "17594  0.318304 -0.792243 -0.589105 -0.307860   \n",
      "17595 -0.711327 -0.259717 -0.202606 -0.893575   \n",
      "17596 -0.196512 -0.792243 -0.589105 -0.911878   \n",
      "\n",
      "                                                       0  \n",
      "0        (0, 162)\\t1.0\\n  (0, 175)\\t1.0\\n  (0, 178)\\t...  \n",
      "1        (0, 162)\\t1.0\\n  (0, 174)\\t1.0\\n  (0, 178)\\t...  \n",
      "2        (0, 140)\\t1.0\\n  (0, 175)\\t1.0\\n  (0, 178)\\t...  \n",
      "3        (0, 43)\\t1.0\\n  (0, 175)\\t1.0\\n  (0, 178)\\t1...  \n",
      "4        (0, 142)\\t1.0\\n  (0, 172)\\t1.0\\n  (0, 178)\\t...  \n",
      "...                                                  ...  \n",
      "17592    (0, 67)\\t1.0\\n  (0, 174)\\t1.0\\n  (0, 178)\\t1...  \n",
      "17593    (0, 31)\\t1.0\\n  (0, 176)\\t1.0\\n  (0, 178)\\t1...  \n",
      "17594    (0, 170)\\t1.0\\n  (0, 174)\\t1.0\\n  (0, 178)\\t...  \n",
      "17595    (0, 122)\\t1.0\\n  (0, 172)\\t1.0\\n  (0, 178)\\t...  \n",
      "17596    (0, 20)\\t1.0\\n  (0, 172)\\t1.0\\n  (0, 178)\\t1...  \n",
      "\n",
      "[17597 rows x 5 columns]\n",
      "\n",
      "concat_test_df\n",
      "             0         1         2         3  \\\n",
      "0    -0.196512 -0.366223  0.377142 -0.198039   \n",
      "1    -0.196512 -0.614735 -0.589105 -0.856968   \n",
      "2    -0.196512  0.095300 -0.202606 -0.399378   \n",
      "3    -0.196512  0.166304 -0.009357  0.204640   \n",
      "4    -0.711327 -0.508229 -0.589105 -0.893575   \n",
      "...        ...       ...       ...       ...   \n",
      "5861 -0.196512 -0.366223 -0.009357 -0.015003   \n",
      "5862 -0.196512 -0.685738 -0.589105 -0.454289   \n",
      "5863 -0.196512 -0.863247 -0.202606 -0.619021   \n",
      "5864  0.318304 -0.366223  0.763641 -0.198039   \n",
      "5865  0.318304 -0.863247  0.570392 -0.069914   \n",
      "\n",
      "                                                      0  \n",
      "0       (0, 13)\\t1.0\\n  (0, 174)\\t1.0\\n  (0, 178)\\t1...  \n",
      "1       (0, 127)\\t1.0\\n  (0, 172)\\t1.0\\n  (0, 178)\\t...  \n",
      "2       (0, 13)\\t1.0\\n  (0, 172)\\t1.0\\n  (0, 178)\\t1...  \n",
      "3       (0, 39)\\t1.0\\n  (0, 174)\\t1.0\\n  (0, 178)\\t1...  \n",
      "4       (0, 167)\\t1.0\\n  (0, 172)\\t1.0\\n  (0, 178)\\t...  \n",
      "...                                                 ...  \n",
      "5861    (0, 56)\\t1.0\\n  (0, 174)\\t1.0\\n  (0, 178)\\t1...  \n",
      "5862    (0, 4)\\t1.0\\n  (0, 172)\\t1.0\\n  (0, 178)\\t1....  \n",
      "5863    (0, 20)\\t1.0\\n  (0, 172)\\t1.0\\n  (0, 178)\\t1...  \n",
      "5864    (0, 162)\\t1.0\\n  (0, 174)\\t1.0\\n  (0, 178)\\t...  \n",
      "5865    (0, 32)\\t1.0\\n  (0, 174)\\t1.0\\n  (0, 178)\\t1...  \n",
      "\n",
      "[5866 rows x 5 columns]\n"
     ]
    }
   ],
   "source": [
    "# Провести объединение датафрейма с помощью pd.concat. X_train OHE с X_train Scaled и также для теста. По итогу вывести на экран два датафрейма.\n",
    "X_train_scaled_df = pd.DataFrame(X_train_scaled)\n",
    "X_test_scaled_df = pd.DataFrame(X_test_scaled)\n",
    "\n",
    "X_train_ohe_df = pd.DataFrame(X_train_ohe)\n",
    "X_test_ohe_df = pd.DataFrame(X_test_ohe)\n",
    "\n",
    "concat_train_df = pd.concat([X_train_scaled_df, X_train_ohe_df], axis=1)\n",
    "concat_test_df = pd.concat([X_test_scaled_df, X_test_ohe_df], axis=1)\n",
    "\n",
    "print('concat_train_df')\n",
    "print(concat_train_df)\n",
    "print('\\nconcat_test_df')\n",
    "print(concat_test_df)"
   ]
  },
  {
   "cell_type": "markdown",
   "metadata": {
    "id": "VM8lwNLcoEMZ"
   },
   "source": [
    "Сравните данные до масштабирования и после.\n",
    "Что изменилось?"
   ]
  },
  {
   "cell_type": "markdown",
   "metadata": {
    "id": "HsS5hwv4oRe0"
   },
   "source": [
    "В результате масштабирования данные приняли более сбалансированный вид, что повысит результативность обучения модели."
   ]
  }
 ],
 "metadata": {
  "colab": {
   "authorship_tag": "ABX9TyOdXHb//cPz1ydkVB1XI2WU",
   "provenance": []
  },
  "kernelspec": {
   "display_name": "Python 3",
   "name": "python3"
  },
  "language_info": {
   "name": "python"
  }
 },
 "nbformat": 4,
 "nbformat_minor": 0
}
